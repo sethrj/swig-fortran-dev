{
 "cells": [
  {
   "cell_type": "code",
   "execution_count": 17,
   "metadata": {
    "collapsed": true,
    "deletable": true,
    "editable": true
   },
   "outputs": [],
   "source": [
    "from collections import defaultdict\n",
    "results = defaultdict(list)\n",
    "with open('/Users/s3j/_code/_build/swig-debug/Examples/test-suite/fortran/summary.txt') as f:\n",
    "    for line in f:\n",
    "        (test, result) = line.strip().split('|')\n",
    "        results[result].append(test)"
   ]
  },
  {
   "cell_type": "code",
   "execution_count": 18,
   "metadata": {
    "collapsed": false,
    "deletable": true,
    "editable": true
   },
   "outputs": [
    {
     "data": {
      "text/plain": [
       "['failed to compile fortran',\n",
       " 'failed to compile wrapper',\n",
       " 'failed to run swig',\n",
       " 'passed']"
      ]
     },
     "execution_count": 18,
     "metadata": {},
     "output_type": "execute_result"
    }
   ],
   "source": [
    "sorted(results.keys())"
   ]
  },
  {
   "cell_type": "code",
   "execution_count": 19,
   "metadata": {
    "collapsed": false,
    "deletable": true,
    "editable": true
   },
   "outputs": [
    {
     "name": "stdout",
     "output_type": "stream",
     "text": [
      "['typemap_namespace', 'varargs', 'varargs_overload']\n"
     ]
    }
   ],
   "source": [
    "print(results['failed to run swig'])"
   ]
  },
  {
   "cell_type": "code",
   "execution_count": 20,
   "metadata": {
    "collapsed": false,
    "deletable": true,
    "editable": true,
    "scrolled": true
   },
   "outputs": [
    {
     "name": "stdout",
     "output_type": "stream",
     "text": [
      "failed to compile wrapper:   48\n",
      "failed to run swig       :    3\n",
      "failed to compile fortran:   93\n",
      "passed                   :  304\n"
     ]
    }
   ],
   "source": [
    "for (k,v) in results.items():\n",
    "    print(\"{:25s}: {:4d}\".format(k, len(v)))"
   ]
  },
  {
   "cell_type": "code",
   "execution_count": 21,
   "metadata": {
    "collapsed": false,
    "deletable": true,
    "editable": true
   },
   "outputs": [],
   "source": [
    "filename = 'failing-tests.mk'\n",
    "with open(filename, 'w') as f:\n",
    "    for k in sorted(results):\n",
    "        if k == \"passed\":\n",
    "            continue\n",
    "        print('\\n#',k, file=f)\n",
    "        print(\" \\\\\\n  \".join(sorted(results[k])), file=f)"
   ]
  },
  {
   "cell_type": "code",
   "execution_count": 22,
   "metadata": {
    "collapsed": false,
    "deletable": true,
    "editable": true
   },
   "outputs": [],
   "source": [
    "!mvim {filename}"
   ]
  },
  {
   "cell_type": "code",
   "execution_count": 23,
   "metadata": {
    "collapsed": false,
    "deletable": true,
    "editable": true
   },
   "outputs": [
    {
     "data": {
      "text/plain": [
       "['apply_strings',\n",
       " 'constant_pointers',\n",
       " 'contract',\n",
       " 'cpp_enum',\n",
       " 'cpp_basic',\n",
       " 'director_binary_string',\n",
       " 'director_enum',\n",
       " 'director_extend',\n",
       " 'director_smartptr',\n",
       " 'dynamic_cast',\n",
       " 'enum_ignore',\n",
       " 'extend',\n",
       " 'enum_thorough',\n",
       " 'global_namespace',\n",
       " 'global_vars',\n",
       " 'li_attribute',\n",
       " 'li_attribute_template',\n",
       " 'li_boost_shared_ptr_template',\n",
       " 'li_boost_shared_ptr_bits',\n",
       " 'li_boost_shared_ptr',\n",
       " 'li_cdata_cpp',\n",
       " 'memberin_extend',\n",
       " 'member_funcptr_galore',\n",
       " 'member_pointer',\n",
       " 'member_pointer_const',\n",
       " 'mixed_types',\n",
       " 'multiple_inheritance_shared_ptr',\n",
       " 'name_warnings',\n",
       " 'namespace_spaces',\n",
       " 'namespace_typemap',\n",
       " 'nested_ignore',\n",
       " 'operator_pointer_ref',\n",
       " 'return_const_value',\n",
       " 'smart_pointer_const_overload',\n",
       " 'special_variable_macros',\n",
       " 'template_basic',\n",
       " 'template_explicit',\n",
       " 'template_rename',\n",
       " 'template_typedef_rec',\n",
       " 'typedef_sizet',\n",
       " 'typedef_struct_cpp',\n",
       " 'typemap_various',\n",
       " 'valuewrapper_const',\n",
       " 'virtual_poly',\n",
       " 'wrapmacro',\n",
       " 'li_std_except',\n",
       " 'li_std_except_as_class',\n",
       " 'li_std_vector_enum']"
      ]
     },
     "execution_count": 23,
     "metadata": {},
     "output_type": "execute_result"
    }
   ],
   "source": [
    "results['failed to compile wrapper']"
   ]
  },
  {
   "cell_type": "code",
   "execution_count": 24,
   "metadata": {
    "collapsed": false,
    "deletable": true,
    "editable": true
   },
   "outputs": [
    {
     "data": {
      "text/plain": [
       "['abstract_signature',\n",
       " 'allprotected',\n",
       " 'autodoc',\n",
       " 'constructor_copy',\n",
       " 'default_constructor',\n",
       " 'default_args',\n",
       " 'director_basic',\n",
       " 'director_classes',\n",
       " 'director_default',\n",
       " 'director_detect',\n",
       " 'director_keywords',\n",
       " 'director_ignore',\n",
       " 'director_frob',\n",
       " 'director_nested',\n",
       " 'director_overload2',\n",
       " 'director_redefined',\n",
       " 'director_protected',\n",
       " 'director_property',\n",
       " 'enum_scope_template',\n",
       " 'evil_diamond_prop',\n",
       " 'extend_default',\n",
       " 'extern_c',\n",
       " 'fvirtual',\n",
       " 'friends',\n",
       " 'inherit_target_language',\n",
       " 'multiple_inheritance',\n",
       " 'multiple_inheritance_interfaces',\n",
       " 'multiple_inheritance_abstract',\n",
       " 'multiple_inheritance_nspace',\n",
       " 'namespace_class',\n",
       " 'namespace_nested',\n",
       " 'naturalvar_more',\n",
       " 'nested_scope',\n",
       " 'nested_workaround',\n",
       " 'null_pointer',\n",
       " 'operator_overload',\n",
       " 'overload_arrays',\n",
       " 'operator_overload_break',\n",
       " 'overload_method',\n",
       " 'overload_polymorphic',\n",
       " 'overload_return_type',\n",
       " 'overload_subtype',\n",
       " 'overload_simple',\n",
       " 'overload_template',\n",
       " 'preproc_constants',\n",
       " 'overload_template_fast',\n",
       " 'primitive_ref',\n",
       " 'refcount',\n",
       " 'samename',\n",
       " 'smart_pointer_const',\n",
       " 'smart_pointer_const2',\n",
       " 'smart_pointer_ignore',\n",
       " 'smart_pointer_extend',\n",
       " 'smart_pointer_member',\n",
       " 'smart_pointer_multi',\n",
       " 'smart_pointer_multi_typedef',\n",
       " 'smart_pointer_namespace',\n",
       " 'smart_pointer_not',\n",
       " 'smart_pointer_namespace2',\n",
       " 'smart_pointer_overload',\n",
       " 'smart_pointer_protected',\n",
       " 'smart_pointer_rename',\n",
       " 'smart_pointer_simple',\n",
       " 'smart_pointer_static',\n",
       " 'smart_pointer_template_const_overload',\n",
       " 'smart_pointer_templatevariables',\n",
       " 'smart_pointer_templatemethods',\n",
       " 'smart_pointer_typedef',\n",
       " 'smart_pointer_template_defaults_overload',\n",
       " 'special_variables',\n",
       " 'template_arg_typename',\n",
       " 'template_default_arg',\n",
       " 'template_enum',\n",
       " 'template_extend_overload',\n",
       " 'template_methods',\n",
       " 'template_ns',\n",
       " 'template_ref_type',\n",
       " 'template_specialization_enum',\n",
       " 'template_typedef_inherit',\n",
       " 'typemap_ns_using',\n",
       " 'types_directive',\n",
       " 'using1',\n",
       " 'using2',\n",
       " 'using_composition',\n",
       " 'using_extend',\n",
       " 'using_inherit',\n",
       " 'using_protected',\n",
       " 'valuewrapper_base',\n",
       " 'valuewrapper_opaque',\n",
       " 'variable_replacement',\n",
       " 'wallkw',\n",
       " 'smart_pointer_inherit',\n",
       " 'li_std_vector_ptr']"
      ]
     },
     "execution_count": 24,
     "metadata": {},
     "output_type": "execute_result"
    }
   ],
   "source": [
    "results['failed to compile fortran']"
   ]
  },
  {
   "cell_type": "code",
   "execution_count": null,
   "metadata": {
    "collapsed": true,
    "deletable": true,
    "editable": true
   },
   "outputs": [],
   "source": []
  }
 ],
 "metadata": {
  "kernelspec": {
   "display_name": "Python 3",
   "language": "python",
   "name": "python3"
  },
  "language_info": {
   "codemirror_mode": {
    "name": "ipython",
    "version": 3
   },
   "file_extension": ".py",
   "mimetype": "text/x-python",
   "name": "python",
   "nbconvert_exporter": "python",
   "pygments_lexer": "ipython3",
   "version": "3.4.6"
  }
 },
 "nbformat": 4,
 "nbformat_minor": 2
}
