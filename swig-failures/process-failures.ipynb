{
 "cells": [
  {
   "cell_type": "code",
   "execution_count": 28,
   "metadata": {
    "collapsed": true,
    "deletable": true,
    "editable": true
   },
   "outputs": [],
   "source": [
    "from collections import defaultdict\n",
    "results = defaultdict(list)\n",
    "with open('/Users/s3j/_code/_build/swig-debug/Examples/test-suite/fortran/summary.txt') as f:\n",
    "    for line in f:\n",
    "        (test, result) = line.strip().split('|')\n",
    "        results[result].append(test)"
   ]
  },
  {
   "cell_type": "code",
   "execution_count": 29,
   "metadata": {
    "collapsed": false,
    "deletable": true,
    "editable": true
   },
   "outputs": [
    {
     "data": {
      "text/plain": [
       "['failed to compile fortran', 'failed to compile wrapper', 'passed']"
      ]
     },
     "execution_count": 29,
     "metadata": {},
     "output_type": "execute_result"
    }
   ],
   "source": [
    "sorted(results.keys())"
   ]
  },
  {
   "cell_type": "code",
   "execution_count": 30,
   "metadata": {
    "collapsed": false,
    "deletable": true,
    "editable": true
   },
   "outputs": [
    {
     "name": "stdout",
     "output_type": "stream",
     "text": [
      "[]\n"
     ]
    }
   ],
   "source": [
    "print(results['failed to run swig'])"
   ]
  },
  {
   "cell_type": "code",
   "execution_count": 31,
   "metadata": {
    "collapsed": false,
    "deletable": true,
    "editable": true,
    "scrolled": true
   },
   "outputs": [
    {
     "name": "stdout",
     "output_type": "stream",
     "text": [
      "failed to compile fortran:   86\n",
      "failed to run swig       :    0\n",
      "failed to compile wrapper:   42\n",
      "passed                   :  320\n"
     ]
    }
   ],
   "source": [
    "for (k,v) in results.items():\n",
    "    print(\"{:25s}: {:4d}\".format(k, len(v)))"
   ]
  },
  {
   "cell_type": "code",
   "execution_count": 32,
   "metadata": {
    "collapsed": false,
    "deletable": true,
    "editable": true
   },
   "outputs": [],
   "source": [
    "filename = 'failing-tests.mk'\n",
    "with open(filename, 'w') as f:\n",
    "    for k in sorted(results):\n",
    "        if k == \"passed\":\n",
    "            continue\n",
    "        print('\\n#',k, file=f)\n",
    "        print(\" \\\\\\n  \".join(sorted(results[k])), file=f)"
   ]
  },
  {
   "cell_type": "code",
   "execution_count": 33,
   "metadata": {
    "collapsed": false,
    "deletable": true,
    "editable": true
   },
   "outputs": [],
   "source": [
    "!mvim {filename}"
   ]
  },
  {
   "cell_type": "code",
   "execution_count": 26,
   "metadata": {
    "collapsed": false,
    "deletable": true,
    "editable": true
   },
   "outputs": [
    {
     "data": {
      "text/plain": [
       "['apply_strings',\n",
       " 'contract',\n",
       " 'cpp_basic',\n",
       " 'cpp_enum',\n",
       " 'director_binary_string',\n",
       " 'director_extend',\n",
       " 'director_smartptr',\n",
       " 'dynamic_cast',\n",
       " 'extend',\n",
       " 'funcptr_cpp',\n",
       " 'global_vars',\n",
       " 'li_attribute',\n",
       " 'li_attribute_template',\n",
       " 'li_boost_shared_ptr_template',\n",
       " 'li_boost_shared_ptr_bits',\n",
       " 'li_boost_shared_ptr',\n",
       " 'li_cdata_cpp',\n",
       " 'member_pointer',\n",
       " 'memberin_extend',\n",
       " 'member_funcptr_galore',\n",
       " 'member_pointer_const',\n",
       " 'name_warnings',\n",
       " 'multiple_inheritance_shared_ptr',\n",
       " 'namespace_spaces',\n",
       " 'namespace_typemap',\n",
       " 'operator_pointer_ref',\n",
       " 'smart_pointer_const_overload',\n",
       " 'special_variable_macros',\n",
       " 'template_rename',\n",
       " 'template_typedef_rec',\n",
       " 'typedef_sizet',\n",
       " 'typedef_struct_cpp',\n",
       " 'typemap_various',\n",
       " 'varargs',\n",
       " 'varargs_overload',\n",
       " 'virtual_poly',\n",
       " 'wrapmacro',\n",
       " 'li_std_except',\n",
       " 'li_std_except_as_class',\n",
       " 'li_std_combinations',\n",
       " 'li_std_vector_ptr',\n",
       " 'li_std_vector']"
      ]
     },
     "execution_count": 26,
     "metadata": {},
     "output_type": "execute_result"
    }
   ],
   "source": [
    "results['failed to compile wrapper']"
   ]
  },
  {
   "cell_type": "code",
   "execution_count": 27,
   "metadata": {
    "collapsed": false,
    "deletable": true,
    "editable": true
   },
   "outputs": [
    {
     "data": {
      "text/plain": [
       "['allowexcept',\n",
       " 'apply_signed_char',\n",
       " 'allprotected',\n",
       " 'array_member',\n",
       " 'arrays_dimensionless',\n",
       " 'arrays_global_twodim',\n",
       " 'arrays_global',\n",
       " 'bools',\n",
       " 'autodoc',\n",
       " 'char_binary',\n",
       " 'chartest',\n",
       " 'char_strings',\n",
       " 'constructor_copy',\n",
       " 'constant_pointers',\n",
       " 'cpp_namespace',\n",
       " 'cpp_nodefault',\n",
       " 'default_constructor',\n",
       " 'default_args',\n",
       " 'director_basic',\n",
       " 'director_classes',\n",
       " 'director_enum',\n",
       " 'director_detect',\n",
       " 'director_keywords',\n",
       " 'director_frob',\n",
       " 'director_ignore',\n",
       " 'director_overload',\n",
       " 'director_nested',\n",
       " 'director_redefined',\n",
       " 'director_protected',\n",
       " 'director_primitives',\n",
       " 'director_property',\n",
       " 'enum_ignore',\n",
       " 'enum_scope_template',\n",
       " 'enum_var',\n",
       " 'equality',\n",
       " 'evil_diamond_prop',\n",
       " 'extend_constructor_destructor',\n",
       " 'exception_order',\n",
       " 'extend_default',\n",
       " 'extern_c',\n",
       " 'extend_template_method',\n",
       " 'enum_thorough',\n",
       " 'global_namespace',\n",
       " 'friends',\n",
       " 'grouping',\n",
       " 'li_carrays_cpp',\n",
       " 'li_windows',\n",
       " 'long_long_apply',\n",
       " 'mixed_types',\n",
       " 'multiple_inheritance_abstract',\n",
       " 'multiple_inheritance_interfaces',\n",
       " 'multiple_inheritance_nspace',\n",
       " 'namespace_class',\n",
       " 'namespace_nested',\n",
       " 'naturalvar',\n",
       " 'nested_scope',\n",
       " 'nested_workaround',\n",
       " 'naturalvar_more',\n",
       " 'null_pointer',\n",
       " 'operator_overload',\n",
       " 'overload_arrays',\n",
       " 'overload_method',\n",
       " 'overload_polymorphic',\n",
       " 'overload_return_type',\n",
       " 'overload_subtype',\n",
       " 'overload_simple',\n",
       " 'overload_template',\n",
       " 'preproc_constants',\n",
       " 'overload_template_fast',\n",
       " 'primitive_ref',\n",
       " 'reference_global_vars',\n",
       " 'refcount',\n",
       " 'rename_simple',\n",
       " 'rename_predicates',\n",
       " 'return_const_value',\n",
       " 'samename',\n",
       " 'smart_pointer_const',\n",
       " 'smart_pointer_extend',\n",
       " 'smart_pointer_member',\n",
       " 'smart_pointer_multi',\n",
       " 'smart_pointer_multi_typedef',\n",
       " 'smart_pointer_overload',\n",
       " 'smart_pointer_protected',\n",
       " 'smart_pointer_simple',\n",
       " 'smart_pointer_rename',\n",
       " 'smart_pointer_template_const_overload',\n",
       " 'smart_pointer_templatevariables',\n",
       " 'smart_pointer_typedef',\n",
       " 'smart_pointer_template_defaults_overload',\n",
       " 'string_constants',\n",
       " 'special_variables',\n",
       " 'struct_initialization_cpp',\n",
       " 'template_arg_typename',\n",
       " 'template_basic',\n",
       " 'template_default_arg',\n",
       " 'template_default',\n",
       " 'template_enum',\n",
       " 'template_explicit',\n",
       " 'template_extend_overload',\n",
       " 'template_methods',\n",
       " 'template_ns',\n",
       " 'template_ref_type',\n",
       " 'template_specialization_enum',\n",
       " 'template_typedef_inherit',\n",
       " 'typemap_ns_using',\n",
       " 'typemap_variables',\n",
       " 'types_directive',\n",
       " 'using1',\n",
       " 'using2',\n",
       " 'using_protected',\n",
       " 'valuewrapper_base',\n",
       " 'valuewrapper_const',\n",
       " 'valuewrapper_opaque',\n",
       " 'wallkw',\n",
       " 'li_std_string',\n",
       " 'li_std_vector_enum',\n",
       " 'smart_pointer_inherit']"
      ]
     },
     "execution_count": 27,
     "metadata": {},
     "output_type": "execute_result"
    }
   ],
   "source": [
    "results['failed to compile fortran']"
   ]
  },
  {
   "cell_type": "code",
   "execution_count": null,
   "metadata": {
    "collapsed": true,
    "deletable": true,
    "editable": true
   },
   "outputs": [],
   "source": []
  }
 ],
 "metadata": {
  "kernelspec": {
   "display_name": "Python 3",
   "language": "python",
   "name": "python3"
  },
  "language_info": {
   "codemirror_mode": {
    "name": "ipython",
    "version": 3
   },
   "file_extension": ".py",
   "mimetype": "text/x-python",
   "name": "python",
   "nbconvert_exporter": "python",
   "pygments_lexer": "ipython3",
   "version": "3.4.6"
  }
 },
 "nbformat": 4,
 "nbformat_minor": 2
}
