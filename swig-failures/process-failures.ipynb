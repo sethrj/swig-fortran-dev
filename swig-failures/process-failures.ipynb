{
 "cells": [
  {
   "cell_type": "code",
   "execution_count": 7,
   "metadata": {
    "collapsed": true
   },
   "outputs": [],
   "source": [
    "from collections import defaultdict\n",
    "results = defaultdict(list)\n",
    "with open('/Users/s3j/_code/_build/swig-debug/Examples/test-suite/fortran/summary.txt') as f:\n",
    "    for line in f:\n",
    "        (test, result) = line.strip().split('|')\n",
    "        results[result].append(test)"
   ]
  },
  {
   "cell_type": "code",
   "execution_count": 8,
   "metadata": {
    "collapsed": false
   },
   "outputs": [
    {
     "data": {
      "text/plain": [
       "dict_keys(['failed to compile wrapper', 'passed', 'failed to compile fortran', 'failed to run swig'])"
      ]
     },
     "execution_count": 8,
     "metadata": {},
     "output_type": "execute_result"
    }
   ],
   "source": [
    "results.keys()"
   ]
  },
  {
   "cell_type": "code",
   "execution_count": 9,
   "metadata": {
    "collapsed": false
   },
   "outputs": [
    {
     "name": "stdout",
     "output_type": "stream",
     "text": [
      "['allprotected', 'autodoc', 'default_args', 'extend_default', 'kwargs_feature', 'overload_arrays', 'overload_simple', 'overload_template', 'overload_template_fast', 'smart_pointer_extend', 'smart_pointer_template_defaults_overload', 'varargs']\n"
     ]
    }
   ],
   "source": [
    "print(results['failed to run swig'])"
   ]
  },
  {
   "cell_type": "code",
   "execution_count": 10,
   "metadata": {
    "collapsed": false,
    "scrolled": true
   },
   "outputs": [
    {
     "name": "stdout",
     "output_type": "stream",
     "text": [
      "failed to compile wrapper:   42\n",
      "passed                   :  229\n",
      "failed to compile fortran:  180\n",
      "failed to run swig       :   12\n"
     ]
    }
   ],
   "source": [
    "for (k,v) in results.items():\n",
    "    print(\"{:25s}: {:4d}\".format(k, len(v)))"
   ]
  },
  {
   "cell_type": "code",
   "execution_count": 11,
   "metadata": {
    "collapsed": false
   },
   "outputs": [],
   "source": [
    "filename = 'failing-tests-8.mk'\n",
    "with open(filename, 'w') as f:\n",
    "    for k in sorted(results):\n",
    "        if k == \"passed\":\n",
    "            continue\n",
    "        print('\\n#',k, file=f)\n",
    "        print(\" \\\\\\n  \".join(sorted(results[k])), file=f)"
   ]
  },
  {
   "cell_type": "code",
   "execution_count": 6,
   "metadata": {
    "collapsed": false
   },
   "outputs": [],
   "source": [
    "!mvim {filename}"
   ]
  },
  {
   "cell_type": "code",
   "execution_count": null,
   "metadata": {
    "collapsed": true
   },
   "outputs": [],
   "source": []
  }
 ],
 "metadata": {
  "kernelspec": {
   "display_name": "Python 3",
   "language": "python",
   "name": "python3"
  },
  "language_info": {
   "codemirror_mode": {
    "name": "ipython",
    "version": 3
   },
   "file_extension": ".py",
   "mimetype": "text/x-python",
   "name": "python",
   "nbconvert_exporter": "python",
   "pygments_lexer": "ipython3",
   "version": "3.4.6"
  }
 },
 "nbformat": 4,
 "nbformat_minor": 2
}
