{
 "cells": [
  {
   "cell_type": "code",
   "execution_count": 1,
   "metadata": {
    "collapsed": true,
    "deletable": true,
    "editable": true
   },
   "outputs": [],
   "source": [
    "from collections import defaultdict\n",
    "results = defaultdict(list)\n",
    "with open('/Users/s3j/_code/_build/swig-debug/Examples/test-suite/fortran/summary.txt') as f:\n",
    "    for line in f:\n",
    "        (test, result) = line.strip().split('|')\n",
    "        results[result].append(test)"
   ]
  },
  {
   "cell_type": "code",
   "execution_count": 2,
   "metadata": {
    "collapsed": false,
    "deletable": true,
    "editable": true
   },
   "outputs": [
    {
     "data": {
      "text/plain": [
       "['failed to compile fortran', 'failed to compile wrapper', 'passed']"
      ]
     },
     "execution_count": 2,
     "metadata": {},
     "output_type": "execute_result"
    }
   ],
   "source": [
    "sorted(results.keys())"
   ]
  },
  {
   "cell_type": "code",
   "execution_count": 3,
   "metadata": {
    "collapsed": false,
    "deletable": true,
    "editable": true
   },
   "outputs": [
    {
     "name": "stdout",
     "output_type": "stream",
     "text": [
      "[]\n"
     ]
    }
   ],
   "source": [
    "print(results['failed to run swig'])"
   ]
  },
  {
   "cell_type": "code",
   "execution_count": 4,
   "metadata": {
    "collapsed": false,
    "deletable": true,
    "editable": true,
    "scrolled": true
   },
   "outputs": [
    {
     "name": "stdout",
     "output_type": "stream",
     "text": [
      "failed to run swig       :    0\n",
      "passed                   :  315\n",
      "failed to compile wrapper:   25\n",
      "failed to compile fortran:  108\n"
     ]
    }
   ],
   "source": [
    "for (k,v) in results.items():\n",
    "    print(\"{:25s}: {:4d}\".format(k, len(v)))"
   ]
  },
  {
   "cell_type": "code",
   "execution_count": 5,
   "metadata": {
    "collapsed": false,
    "deletable": true,
    "editable": true
   },
   "outputs": [],
   "source": [
    "filename = 'failing-tests.mk'\n",
    "with open(filename, 'w') as f:\n",
    "    for k in reversed(sorted(results)):\n",
    "        if k == \"passed\":\n",
    "            continue\n",
    "        print('\\n#',k, file=f)\n",
    "        print(\" \", \" \\\\\\n  \".join(sorted(results[k])), file=f)"
   ]
  },
  {
   "cell_type": "code",
   "execution_count": 6,
   "metadata": {
    "collapsed": false,
    "deletable": true,
    "editable": true
   },
   "outputs": [],
   "source": [
    "!mvim {filename}"
   ]
  },
  {
   "cell_type": "code",
   "execution_count": 7,
   "metadata": {
    "collapsed": false,
    "deletable": true,
    "editable": true,
    "scrolled": true
   },
   "outputs": [
    {
     "data": {
      "text/plain": [
       "['apply_strings',\n",
       " 'cpp_basic',\n",
       " 'director_binary_string',\n",
       " 'dynamic_cast',\n",
       " 'extend',\n",
       " 'li_attribute',\n",
       " 'li_attribute_template',\n",
       " 'li_cdata_cpp',\n",
       " 'memberin_extend',\n",
       " 'member_pointer',\n",
       " 'member_pointer_const',\n",
       " 'member_funcptr_galore',\n",
       " 'namespace_spaces',\n",
       " 'namespace_typemap',\n",
       " 'operator_pointer_ref',\n",
       " 'smart_pointer_const_overload',\n",
       " 'special_variable_macros',\n",
       " 'template_basic',\n",
       " 'template_explicit',\n",
       " 'typedef_struct_cpp',\n",
       " 'typemap_various',\n",
       " 'li_std_except',\n",
       " 'li_std_except_as_class']"
      ]
     },
     "execution_count": 7,
     "metadata": {},
     "output_type": "execute_result"
    }
   ],
   "source": [
    "results['failed to compile wrapper']"
   ]
  },
  {
   "cell_type": "code",
   "execution_count": 8,
   "metadata": {
    "collapsed": false,
    "deletable": true,
    "editable": true
   },
   "outputs": [
    {
     "data": {
      "text/plain": [
       "['abstract_signature',\n",
       " 'allprotected',\n",
       " 'autodoc',\n",
       " 'constructor_copy',\n",
       " 'constant_pointers',\n",
       " 'contract',\n",
       " 'cpp_enum',\n",
       " 'default_constructor',\n",
       " 'default_args',\n",
       " 'director_basic',\n",
       " 'director_classes',\n",
       " 'director_default',\n",
       " 'director_enum',\n",
       " 'director_detect',\n",
       " 'director_keywords',\n",
       " 'director_ignore',\n",
       " 'director_frob',\n",
       " 'director_nested',\n",
       " 'director_overload2',\n",
       " 'director_redefined',\n",
       " 'director_property',\n",
       " 'director_protected',\n",
       " 'enum_ignore',\n",
       " 'enum_scope_template',\n",
       " 'evil_diamond_prop',\n",
       " 'extend_default',\n",
       " 'enum_thorough',\n",
       " 'fvirtual',\n",
       " 'friends',\n",
       " 'global_namespace',\n",
       " 'global_vars',\n",
       " 'inherit_target_language',\n",
       " 'li_boost_shared_ptr',\n",
       " 'multiple_inheritance',\n",
       " 'mixed_types',\n",
       " 'multiple_inheritance_interfaces',\n",
       " 'multiple_inheritance_abstract',\n",
       " 'name_warnings',\n",
       " 'multiple_inheritance_nspace',\n",
       " 'multiple_inheritance_shared_ptr',\n",
       " 'namespace_class',\n",
       " 'namespace_nested',\n",
       " 'naturalvar_more',\n",
       " 'nested_workaround',\n",
       " 'nested_scope',\n",
       " 'null_pointer',\n",
       " 'operator_overload',\n",
       " 'operator_overload_break',\n",
       " 'overload_arrays',\n",
       " 'overload_method',\n",
       " 'overload_polymorphic',\n",
       " 'overload_return_type',\n",
       " 'overload_subtype',\n",
       " 'overload_simple',\n",
       " 'preproc_constants',\n",
       " 'overload_template',\n",
       " 'overload_template_fast',\n",
       " 'primitive_ref',\n",
       " 'refcount',\n",
       " 'return_const_value',\n",
       " 'samename',\n",
       " 'smart_pointer_const',\n",
       " 'smart_pointer_const2',\n",
       " 'smart_pointer_ignore',\n",
       " 'smart_pointer_member',\n",
       " 'smart_pointer_extend',\n",
       " 'smart_pointer_multi',\n",
       " 'smart_pointer_multi_typedef',\n",
       " 'smart_pointer_namespace',\n",
       " 'smart_pointer_namespace2',\n",
       " 'smart_pointer_not',\n",
       " 'smart_pointer_overload',\n",
       " 'smart_pointer_protected',\n",
       " 'smart_pointer_rename',\n",
       " 'smart_pointer_simple',\n",
       " 'smart_pointer_static',\n",
       " 'smart_pointer_template_const_overload',\n",
       " 'smart_pointer_templatevariables',\n",
       " 'smart_pointer_templatemethods',\n",
       " 'smart_pointer_typedef',\n",
       " 'smart_pointer_template_defaults_overload',\n",
       " 'special_variables',\n",
       " 'template_arg_typename',\n",
       " 'template_default_arg',\n",
       " 'template_enum',\n",
       " 'template_extend_overload',\n",
       " 'template_methods',\n",
       " 'template_ns',\n",
       " 'template_ref_type',\n",
       " 'template_specialization_enum',\n",
       " 'template_typedef_inherit',\n",
       " 'typemap_ns_using',\n",
       " 'types_directive',\n",
       " 'using1',\n",
       " 'using2',\n",
       " 'using_composition',\n",
       " 'using_extend',\n",
       " 'using_inherit',\n",
       " 'using_protected',\n",
       " 'valuewrapper_base',\n",
       " 'valuewrapper_const',\n",
       " 'valuewrapper_opaque',\n",
       " 'variable_replacement',\n",
       " 'virtual_poly',\n",
       " 'wallkw',\n",
       " 'li_std_vector_enum',\n",
       " 'smart_pointer_inherit',\n",
       " 'li_std_vector_ptr']"
      ]
     },
     "execution_count": 8,
     "metadata": {},
     "output_type": "execute_result"
    }
   ],
   "source": [
    "results['failed to compile fortran']"
   ]
  },
  {
   "cell_type": "code",
   "execution_count": null,
   "metadata": {
    "collapsed": true,
    "deletable": true,
    "editable": true
   },
   "outputs": [],
   "source": []
  }
 ],
 "metadata": {
  "kernelspec": {
   "display_name": "Python 3",
   "language": "python",
   "name": "python3"
  },
  "language_info": {
   "codemirror_mode": {
    "name": "ipython",
    "version": 3
   },
   "file_extension": ".py",
   "mimetype": "text/x-python",
   "name": "python",
   "nbconvert_exporter": "python",
   "pygments_lexer": "ipython3",
   "version": "3.4.6"
  }
 },
 "nbformat": 4,
 "nbformat_minor": 2
}
